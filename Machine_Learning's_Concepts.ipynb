{
 "cells": [
  {
   "cell_type": "markdown",
   "id": "365ba983",
   "metadata": {},
   "source": [
    "This notebook is desighed to give a definition of the principales concepts in the machine learing area:\n"
   ]
  },
  {
   "cell_type": "markdown",
   "id": "a78e5c9d",
   "metadata": {},
   "source": [
    "# Machine Learning:"
   ]
  },
  {
   "cell_type": "markdown",
   "id": "c0affc5f",
   "metadata": {},
   "source": [
    "Machine learning is the science of study that gives ability of computers to learn from that without explicitely programming for that task, it's also known as predictive analytics and statistical learning.\n",
    "\n",
    "We can devided Machine Learning in three subfields:\n",
    "\n",
    "1-->Supervised Learning: it requires and uses labeld data for training to makes predictions for unlabeled data (e,g test data), the most significant supervid machine learning algorithms are KNN(K-Nearst-Neighbours), Decision Tree, Random Forest, SVM(Support Vector Machine), Naive-Linear-Regression, Logistic Linear Regression..., these previous algoriths are use often for classification's tasks.\n",
    "\n",
    "2-->Unspervised learning: it learn from unlabeled data, his main role is to found hidden structure data, Clustering(k-Means, hierarchicl bottom-up, ...) and Reduction dimentionality( PCA, ...) , EM-algorithm, gaussian Mixture,...etc\n",
    "\n",
    "3--> Reinforcement learning: it learns through the rewarding process.\n"
   ]
  },
  {
   "cell_type": "markdown",
   "id": "c890770b",
   "metadata": {},
   "source": [
    "# Deep Learning:"
   ]
  },
  {
   "cell_type": "markdown",
   "id": "e570f49f",
   "metadata": {},
   "source": [
    "Deep Learning is a subbfield of machine learing based on artificial neural networks (ANNs) that constructs from multiple layers who learn from large data and make predictions."
   ]
  },
  {
   "cell_type": "markdown",
   "id": "bad71eb6",
   "metadata": {},
   "source": [
    "# Artificial Intellegence :"
   ]
  },
  {
   "cell_type": "markdown",
   "id": "d87cf29d",
   "metadata": {},
   "source": [
    "Artificial Intelligence or AI for short is science that study perforfamance tasks by machines  that usually require interfer of human by machines."
   ]
  },
  {
   "cell_type": "markdown",
   "id": "e7917f42",
   "metadata": {},
   "source": [
    "# Data Science:"
   ]
  },
  {
   "cell_type": "markdown",
   "id": "92516992",
   "metadata": {},
   "source": [
    "Data Science is combinations of applied maths, statistics, programmimg to extracts imsights and features from data and deploy that for making decisions ."
   ]
  },
  {
   "cell_type": "markdown",
   "id": "4d81901d",
   "metadata": {},
   "source": [
    "# Dataset:"
   ]
  },
  {
   "cell_type": "markdown",
   "id": "6195598a",
   "metadata": {},
   "source": [
    "dataset is a set of data that use s to build a model, we can devided into traing data that feed the model and train it and the other known as test data that are unkown and we use to make prediction and measure the performance of the model.\n"
   ]
  },
  {
   "cell_type": "markdown",
   "id": "dcda082d",
   "metadata": {},
   "source": [
    "# Overfitting:"
   ]
  },
  {
   "cell_type": "markdown",
   "id": "c1133348",
   "metadata": {},
   "source": [
    "Overfitting is issue that occur when the model perform well in the training data and perform poorly in the test data, it cannot generates a good predictions for unseen data."
   ]
  },
  {
   "cell_type": "markdown",
   "id": "3ec69ca8",
   "metadata": {},
   "source": [
    "# Underfitting :"
   ]
  },
  {
   "cell_type": "markdown",
   "id": "bf758e34",
   "metadata": {},
   "source": [
    "underfitting is a model that does not perform well even in training data due of simplicity and the complexity of data."
   ]
  },
  {
   "cell_type": "markdown",
   "id": "46075406",
   "metadata": {},
   "source": []
  }
 ],
 "metadata": {
  "kernelspec": {
   "display_name": "Python 3 (ipykernel)",
   "language": "python",
   "name": "python3"
  },
  "language_info": {
   "codemirror_mode": {
    "name": "ipython",
    "version": 3
   },
   "file_extension": ".py",
   "mimetype": "text/x-python",
   "name": "python",
   "nbconvert_exporter": "python",
   "pygments_lexer": "ipython3",
   "version": "3.9.13"
  }
 },
 "nbformat": 4,
 "nbformat_minor": 5
}
