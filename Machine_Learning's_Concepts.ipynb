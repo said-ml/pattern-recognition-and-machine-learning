{
 "cells": [
  {
   "cell_type": "markdown",
   "id": "365ba983",
   "metadata": {},
   "source": [
    "This notebook is desighed to give a definition of the principales concepts in the machine learing area:\n"
   ]
  },
  {
   "cell_type": "markdown",
   "id": "a78e5c9d",
   "metadata": {},
   "source": [
    "# Machine Learning:"
   ]
  },
  {
   "cell_type": "markdown",
   "id": "c0affc5f",
   "metadata": {},
   "source": [
    "Machine learning is the science of study that gives ability of computers to learn from that without explicitely programming for that task, it's also known as predictive analytics and statistical learning.\n",
    "\n",
    "We can devided Machine Learning in three subfields:\n",
    "\n",
    "1-->Supervised Learning: it requires and uses labeld data for training to makes predictions for unlabeled data (e,g test data), the most significant supervid machine learning algorithms are KNN(K-Nearst-Neighbours), Decision Tree, Random Forest, SVM(Support Vector Machine), Naive-Linear-Regression, Logistic Linear Regression..., these previous algoriths are use often for classification's tasks.\n",
    "\n",
    "2-->Unspervised learning: it learn from unlabeled data, his main role is to found hidden structure data, Clustering(k-Means, hierarchicl bottom-up, ...) and Reduction dimentionality( PCA, ...) , EM-algorithm, gaussian Mixture,...etc\n",
    "\n",
    "3--> Reinforcement learning: it learns through the rewarding process.\n"
   ]
  },
  {
   "cell_type": "markdown",
   "id": "c890770b",
   "metadata": {},
   "source": [
    "# Deep Learning:"
   ]
  },
  {
   "cell_type": "markdown",
   "id": "e570f49f",
   "metadata": {},
   "source": [
    "Deep Learning is a subbfield of machine learing based on artificial neural networks (ANNs) that constructs from multiple layers who learn from large data and make predictions."
   ]
  },
  {
   "cell_type": "markdown",
   "id": "bad71eb6",
   "metadata": {},
   "source": [
    "# Artificial Intellegence :"
   ]
  },
  {
   "cell_type": "markdown",
   "id": "d87cf29d",
   "metadata": {},
   "source": [
    "Artificial Intelligence or AI for short is science that study perforfamance tasks by machines  that usually require interfer of human by machines."
   ]
  },
  {
   "cell_type": "markdown",
   "id": "e7917f42",
   "metadata": {},
   "source": [
    "# Data Science:"
   ]
  },
  {
   "cell_type": "markdown",
   "id": "92516992",
   "metadata": {},
   "source": [
    "Data Science is combinations of applied maths, statistics, programmimg to extracts imsights and features from data and deploy that for making decisions ."
   ]
  },
  {
   "cell_type": "markdown",
   "id": "4d81901d",
   "metadata": {},
   "source": [
    "# Dataset:"
   ]
  },
  {
   "cell_type": "markdown",
   "id": "6195598a",
   "metadata": {},
   "source": [
    "dataset is a set of data that use s to build a model, we can devided into traing data that feed the model and train it and the other known as test data that are unkown and we use to make prediction and measure the performance of the model.\n"
   ]
  },
  {
   "cell_type": "markdown",
   "id": "dcda082d",
   "metadata": {},
   "source": [
    "# Overfitting:"
   ]
  },
  {
   "cell_type": "markdown",
   "id": "c1133348",
   "metadata": {},
   "source": [
    "Overfitting is issue that occur when the model perform well in the training data and perform poorly in the test data, it cannot generates a good predictions for unseen data."
   ]
  },
  {
   "cell_type": "markdown",
   "id": "3ec69ca8",
   "metadata": {},
   "source": [
    "# Underfitting :"
   ]
  },
  {
   "cell_type": "markdown",
   "id": "bf758e34",
   "metadata": {},
   "source": [
    "underfitting is a model that does not perform well even in training data due of simplicity of the and the complexity of data, the model does not fit the data."
   ]
  },
  {
   "cell_type": "markdown",
   "id": "46075406",
   "metadata": {},
   "source": [
    "# Variance-Bais Trade-Off: "
   ]
  },
  {
   "cell_type": "markdown",
   "id": "840eca6a",
   "metadata": {},
   "source": [
    " --> Variance: is the changes of the model during the traing process, it is given by the following expression:\n",
    " \n",
    " \n",
    "  $~~~~~~~~~~~~~~$    $ Variance(f)=\\mathbb{E}^2 (f)-\\mathbb{E}^2 (y)$\n",
    "    \n",
    " where $f$ is our model and $y$ is the target value.   \n",
    "    \n",
    " --> Bias error: is the difference between the predection of the model and the target value, it is given by the following expression:\n",
    "   \n",
    "   $~~~~~~~~~~~~~~$ $ Bias(f)=f-y$\n",
    "   \n",
    "where $f$ is our model and $y$ is the target value.\n",
    "\n",
    "We distinguish between four categories of model:\n",
    "\n",
    "1--> Model with low variance and low bias, is the prefect model.\n",
    "\n",
    "2--> Model with low variance and high bias, (underfitting).\n",
    "\n",
    "3--> Model with high variance and low bias, (overfitting).\n",
    "\n",
    "4--> Model with high variance and high variance, is the worst model.\n",
    "\n",
    "Variance-Bias Trade-Off is the ability to make the errors of variance and bias very low as possible by preventing the model to overfit or underfit the data.\n",
    "\n",
    " \n",
    "    \n",
    "    "
   ]
  },
  {
   "cell_type": "markdown",
   "id": "037ffaef",
   "metadata": {},
   "source": [
    "# Classifiacation-Regression:"
   ]
  },
  {
   "cell_type": "markdown",
   "id": "e8942934",
   "metadata": {},
   "source": [
    "before we define the classification and regression's terms, let's a short definition of the model:\n",
    "Model: is a combination of applied mathematics formulas or machine learning learning algorithms that implemented in some programming languages (python for example), it uses usually to make predictions or to uncover the hidden structure and patterns in the data.\n",
    "\n",
    "when we feed the model with labeled data (supervised learning), the predictions might be:\n",
    "\n",
    "--> discrete values , in these case the model are called a classifier, Logistic regression is a classifier( and exactly is a binary classifier due his prediction are 0 or 1), Naive Bayes is a classifier, RandomForest, DecisionTree, SVM...etc\n",
    "example of real use:\n",
    "\n",
    "==>the passiant has or not has a cancer.\n",
    "\n",
    "==>classification of the images into animals, cars, houses, ...etc.\n",
    "\n",
    "--> continue value: like prediction of temperature , houses's price, ...etc , the usual models of predictions are\n",
    "SVM, RandomForest, DecisionTree, GPR, ...etc, in thes case the model called regressor.\n"
   ]
  },
  {
   "cell_type": "markdown",
   "id": "f5921897",
   "metadata": {},
   "source": [
    "# Cost-Function(Error-Function):"
   ]
  },
  {
   "cell_type": "markdown",
   "id": "a12518c6",
   "metadata": {},
   "source": [
    "how the model make predictions?\n",
    "\n",
    "before answer these crucial question, what difference the normal programming.\n",
    "\n",
    "-->normal programming : we have a set of predefine rules and a given data (inputs) and we are getting the answers (output).\n",
    "    \n",
    "==>example: consider the following code:"
   ]
  },
  {
   "cell_type": "code",
   "execution_count": 3,
   "id": "d8840e40",
   "metadata": {},
   "outputs": [
    {
     "data": {
      "text/plain": [
       "(2, 0.5)"
      ]
     },
     "execution_count": 3,
     "metadata": {},
     "output_type": "execute_result"
    }
   ],
   "source": [
    "def double(x):\n",
    "    return 2*x\n",
    "input1=1\n",
    "input2=0.25\n",
    "output1=double(input1)\n",
    "output2=double(input2)\n",
    "output1, output2"
   ]
  },
  {
   "cell_type": "markdown",
   "id": "05b69770",
   "metadata": {},
   "source": [
    "so the inputs are 1 and 0.25 and the rule here is to mutpliy by 2, and eventually the outputs are 1 and 0.\n",
    "\n",
    "-->machine learning algorithm (model): we have data (inputs) and the answers or the targets, or labels and we seek the rules, in mathematics language we try to find out the function  𝑓\n",
    "that approximate the relation between inputs and outputs.\n",
    "consider the following examples:\n",
    "we have inputs=[1, 2, 3, 5, 6, 7 ,8, 10], outputs=[3, 6, 9, 14, 21, 17.9, 21, 30.001 ]\n",
    "so the question whe relation each input to output\n",
    "as you observe 1*3=3, 2*3=6,3*3=9...etc\n",
    "so the we multiply each input by 3 we get output or a value that close to output, so we can define our model by the following function:\n",
    "     \n",
    "     $~~~~~~~~~~~~~~~$ $ f(x)=3*x $\n",
    "these above example is pretty simple, in the real problem it's impossible mnually to find out the rule, we compele to define another cocept who it's cost-function also known as the error function, as the name suggest, the error function is the error between correct output and the model's prediction.\n",
    "\n",
    "our principale aim is to minimise the error of the prediction, so mimimizing the cost function.\n",
    "in the following section, we are given explicit expression for the regressor and classifier."
   ]
  },
  {
   "cell_type": "markdown",
   "id": "1409ffa8",
   "metadata": {},
   "source": [
    "# How to build a regressor?"
   ]
  },
  {
   "cell_type": "markdown",
   "id": "a7b4b886",
   "metadata": {},
   "source": [
    "there are range of the error-fuctions that associated with the regressor, the usual ones are:\n",
    "\n",
    "Mean-Squared-Error or MSE for short, it is given by the follwing expression:\n",
    "\n",
    "$~~~~~~~~~~~~~~$ $MSE(\\hat y)=\\dfrac{\\sum_{n=1}^{N}(y_i-\\hat y_i))^2}{N} $ $~~~$ $(\\star)$\n",
    "\n",
    "where $\\hat y $ is the model.\n",
    "\n",
    "Absolute Error , who is given by:\n",
    "\n",
    "$~~~~~~~~~~$ $AE(\\hat y)=\\sum_{n=1}^{N}|\\hat y_{i}-y_{i}| $\n",
    "\n",
    "if you take a peak look you might think that Absolute Error function might be the best error function for building a good regressor, but unlikely that AE are rarely used.\n",
    "\n",
    "MSE is the best option due it is differentiable so we can minimise it by applying Gradien Descent to it.\n",
    "\n",
    "To make things as possible, we limit our study here in the case of Linear Regressor.\n"
   ]
  },
  {
   "cell_type": "markdown",
   "id": "6ebe92b5",
   "metadata": {},
   "source": [
    "# Linear Regression As Example:"
   ]
  },
  {
   "cell_type": "markdown",
   "id": "c140c616",
   "metadata": {},
   "source": [
    "the linear regressor's model is expressing by the following formula:\n",
    "\n",
    "$~~~~~~~~~~~~~$ $\\hat y(x, w)=w.x =w_{0}+w_{1}x_{1}+w_{1}x_{1}+...+w_{N}x_{N}$\n",
    "\n",
    "$w_{i}$ are called the weights of the model known also as parameters of the models, $w_{0}$ called the model's bias, the weights's value  are choseen arbitrarly and randomly.\n",
    "\n",
    "$x_{i}$ represent the input data (the given data) that pass through the model during the training process.\n",
    "\n",
    "if $t_{1}, t_{2}, ...,t_{N}$ are the correct output in the training data ( the desired output) then the the  $(\\star)$ become:\n",
    "\n",
    "$~~~~~~~~~~~~~~$ $MSE(\\hat y)=\\dfrac{\\sum_{n=1}^{N}(t_{n}-w_{n}x_{n})^2}{N} $\n",
    "\n",
    "our goal is to getting the weights $w_{i}$ that make $MSE$ small as possible.\n",
    "\n",
    "so in the mathematic view we summarize that in this following formula:\n",
    "\n",
    "$~~~~~~~~~~~$ $ \\operatorname*{argmin}_w MSE(\\hat y(w,x))$\n",
    "\n",
    "we can go through at lest two process to solve this problem:\n",
    "\n",
    "==>closed-formed: due is tractable we can solve it directly by processing  some sequentials operations of linear algebra, even though personaly i don;t perfer these method due is not general, most equations in machine learning are intractble specially in the view of the bayesian process that aew widely used.\n",
    "\n",
    "==>through Optimization Process (e,g grdient descent): we return to these fundamental and crucial  technique later in this notebook.\n",
    "\n",
    "even if we resolve the problem by any above techniques, the model tend to suffer from overfitting (perform very well in the traing data and poorly on the new unseen data), so we compel to make some slight changes into our error-function by adding new term to it callerd reguralization term, these process are called regularization.\n",
    "\n"
   ]
  },
  {
   "cell_type": "markdown",
   "id": "0223dc61",
   "metadata": {},
   "source": [
    "# Regularization-Optimization:\n"
   ]
  },
  {
   "cell_type": "markdown",
   "id": "f9dc6c9b",
   "metadata": {},
   "source": [
    "Remember that we're in the frame of linear regression model, the regulirezed form of the MSE are given by:\n",
    "\n",
    "$~~~~~~~~~~~~$ $MSE(\\hat y(w,x)=\\dfrac{\\sum_{n=1}^{N}(t_{n}-w_{n}x_{n})^2}{N}+\\lambda ||w||^q$\n",
    "\n",
    "$\\lambda$ called the regurilzed parameter .\n",
    "\n",
    "if $q=1$ , in these case the new $MSE$ called the $lasso$ $~$ $regulizer$, if $q=2$ it called the $quadratic$$~$ $regurilzed$, don't forget $||w|||$ are not differentiable in $0$(e.g in 1D dimention $|0|_{left}=-1 \\not =1=|0|_{right})$.\n",
    "\n",
    "as you reliazed, we don't need to initialize the parameters, we can calcacul it directly from thre above formula.\n",
    "\n",
    "\n",
    "\n"
   ]
  },
  {
   "cell_type": "markdown",
   "id": "9757d83d",
   "metadata": {},
   "source": [
    "# The Optimization:\n"
   ]
  },
  {
   "cell_type": "markdown",
   "id": "558c3214",
   "metadata": {},
   "source": [
    "# The Closed-Form:\n"
   ]
  },
  {
   "cell_type": "markdown",
   "id": "6aab99bc",
   "metadata": {},
   "source": [
    "consider $X$ as a matrix that represent the input data of the model (e.g the traing data that we intend to feed it to the model), $t$ the output data, and the $ quadratic$$~$$ regalizer$ is derevating with respect to $w$, then parametes's model are given by the following formula:\n",
    "\n",
    "$~~~~~~~~~$ $w=(\\lambda I +X^{T}X)^{-1}X^{T}t$\n",
    "\n",
    "where $I_{ij}=1$, if $i=j$, otherwise 0.\n",
    "\n",
    "\n",
    "\n"
   ]
  },
  {
   "cell_type": "markdown",
   "id": "bb01b754",
   "metadata": {},
   "source": [
    "# Gradient Descent:"
   ]
  },
  {
   "cell_type": "markdown",
   "id": "a507aa7a",
   "metadata": {},
   "source": [
    " i think the gradient descent or GD for short algorithm is of the crucial techniques for optimization .\n",
    " \n",
    " consider we have the follwing optomization problem:\n",
    " \n",
    " $~~~~~~~~~~~$ $ argmin _\\theta f(\\theta)$\n",
    " \n",
    " with $f$ is deffirentiable.\n",
    " \n",
    " The process of GD are as following:\n",
    " \n",
    " 1===> we initialize the parameters $\\theta _{i}$ with random values (we return to these process later into the following notebook).\n",
    " \n",
    " 2==> we itertive through the following forluma:\n",
    " \n",
    " $~~~~~~~~~~~$ $\\theta ^{new}=\\theta ^{old}-\\eta \\mathbb{\\nabla J(\\theta)}$\n",
    " \n",
    " \n",
    "these above formula are called $update$ $~~$$rules$.\n",
    "\n",
    "where $ J(\\theta)$ is called jacobian of the target function(e,g cost or error function in our context) and it it's given by:\n",
    "\n",
    "$~~~~~~~~~~$ $$\n",
    "\\mathbb{\\nabla J(\\theta)}=\\left[\\begin{array}{ccc}\n",
    "\\dfrac{\\partial \\mathbf{f}(\\mathbf{\\theta})}{\\partial \\theta_{1}} & \\cdots & \\dfrac{\\partial \\mathbf{f}(\\mathbf{\\theta})}{\\partial \\theta_{n}}\n",
    "\\end{array}\\right]\n",
    "$$\n",
    "\n",
    "and $ \\eta $ is a hyperparameter that called the $learning$$~$ $rate$ it's often choosen strictly between 0 and 1. \n",
    "\n",
    "the second step need more explination.\n",
    "in the real word, it is harrdly or even impossible to otain the perfects paramerters, so we regurilirise through one of the following  :\n",
    "\n",
    "-->$a$ setting up a precise number of iteraions \n",
    "\n",
    "-->$b$settiing up a threshold $\\epsilon$, when $f(\\theta)< \\epsilon $, the algorithm stop to process.\n",
    "\n",
    "sometimes the optimization's problem meight:\n",
    "\n",
    "$~~~~~~~~~~~$ $ argmax _\\theta f(\\theta)$\n",
    "\n",
    "such as $ argmax _{\\theta} f(\\theta)=-argmin _{\\theta}-f(\\theta)$, \n",
    "so we pose $g(\\theta)=-f(\\theta)$, and applying the GD algorithm.\n",
    "\n",
    "for each point $(x_{n}, t_{n})$ of the data $i^{th}$ of the our iterative  GD algorithm for the linaer regression are given through the following expression:\n",
    "\n",
    "$~~~~~~~$ $w_{i+1}=w_{i}-\\eta (t_{n}-w_{i}x_{n})x_{n}$\n",
    "\n",
    "\n",
    " \n",
    " \n",
    " \n"
   ]
  },
  {
   "cell_type": "markdown",
   "id": "a97cb0b8",
   "metadata": {},
   "source": [
    "# L1-Regularization and L2-Regularization:"
   ]
  },
  {
   "cell_type": "code",
   "execution_count": null,
   "id": "c38935a0",
   "metadata": {},
   "outputs": [],
   "source": []
  },
  {
   "cell_type": "markdown",
   "id": "dade2760",
   "metadata": {},
   "source": [
    "# Feature Engineering:"
   ]
  },
  {
   "cell_type": "markdown",
   "id": "6bca9525",
   "metadata": {},
   "source": [
    "in the real world, the data are messy, so we can not feed it directly to the model, we must reshape it(e.g normalize it, standarid it)\n",
    "getting insights from it, discover their features from it, the correlation between the features, add or get rid off some features, encode the features(e,g for categorical data),dimentionality reduction(e,g PCA,...etc) all these \n",
    "process and any other changes and transformatiosn in the raw data that make machine learning perform well called feature engineering.\n",
    "feature engeneering is the process of extracting features from the raw data in order to improve the quality of the model.\n",
    "\n",
    "due there is no determinste guide that generalize the Feature engineering Process, we can say that Feature Engineering is an art .\n",
    "feature is any input data that has a direct impact on the machine learning's problem.\n",
    "\n",
    "Feature Engineering is a vast domaine of study, but we can summarize it in the following techniques:\n",
    "\n",
    "-->Data Exploitation Analysis or DSA for short, these is crucial technique that make to get insight from data, understand it, we perform DSA though the visualization  the data that has a few features(feature correlations, anomalies, outliars...), descriptive statistics( the mean, median, max, min, etc...) $matplotlib$, $pandas$, $seaborn$, $pandas$ are the great tools for DEA.\n",
    "\n",
    "-->Feature Improvement:  that's it done by \n",
    "\n",
    "$a$==>removing outliars or the $nul$ values and replace them through static imputation(mean, mode, median,...), or delete the entire rows(if the rate corrupted rows are quiite fewer) and the features who desn't related to the problem.\n",
    "\n",
    "$b$==>adding new features: the construction and creation through linear combination of the existence feature, the new features must has a significant impact to increse the outcume of machine learning's model or it meight be merely a wate of you precious time.\n",
    "\n",
    "-->Feature Selection:is the techniques of disposing the useless features for the model, for example if have X-person features: weight, height, last name, first name, and we want to predict the gender of the X-person , the last name has no impact in the gender of a person ,so we get rid off it(that may be a naive prediction model due the first name a very correlated to the gender).\n",
    "\n",
    "-->Categorical-Encoding: some of ML's model like to work with the numerical data, for examle gender is binary categorical data, we can encoded 'Female' as $0$ and 'Male' as $1$, these technique as One-Hot coding.\n",
    "\n",
    "-->Scaling: through calibration of numerical data. we defferiate betwwn two common Scaling method:\n",
    "\n",
    "Normalization:also known as Min-Max Scaling, we are performing these technique as following:\n",
    "\n",
    "$~~~~~~~~~$ $X \\rightarrow \\dfrac{X-X_{min}}{X_{max}-X_{min}}$ \n",
    "\n",
    "so as it is dawn from the mathematics formula,$ Normalization$ is to rescale the size of data in $[0, 1]$ range.\n",
    "\n",
    "Standarization: is also statistic technique don't by the following expression:\n",
    "\n",
    "$~~~~~~~~~$ $X \\rightarrow \\dfrac{X-\\bar X}{\\sigma}$\n",
    "\n",
    "where:\n",
    "\n",
    "$\\bar X$ is the mean and $\\sigma$ is the standard deviation.\n",
    "\n",
    "These is peek view of $feature$$~$$engineering$ domaine, the entire books are writtened about these.\n"
   ]
  },
  {
   "cell_type": "markdown",
   "id": "5c733079",
   "metadata": {},
   "source": [
    "# Machine Learning from bayesian perspective:"
   ]
  },
  {
   "cell_type": "markdown",
   "id": "fd538652",
   "metadata": {},
   "source": [
    "firstly before disscusing these matter, i highly recommend the $pattern$ $~$ $reconginition$ $~$$and$ $~$$ machine$$~$$learning$'s book by Bishop, it gives a thorough examination for topic.\n",
    "\n"
   ]
  },
  {
   "cell_type": "markdown",
   "id": "5a0b5118",
   "metadata": {},
   "source": [
    "# Bayes Theorem:\n"
   ]
  },
  {
   "cell_type": "markdown",
   "id": "a6423293",
   "metadata": {},
   "source": [
    "Consider $A$ and $B$ two events and $p$ is a probability, $A /B$ is symbolzation of event '$A$ given $B$' and  $A \\cap B$ is symbolzation of event '$A$ and $B$'.\n",
    "\n",
    "$p(A /B)$ is a probabily of event $A$ occur such as even $B$ is occured.\n",
    "\n",
    "$p(A\\cap B)$ is a probabily of event '$A$ and $B$' occur.\n",
    "\n",
    "$p(B)$ is a probabily of event $B$ occur.\n",
    "\n",
    "the $Bayes$$~$$Theorem$ or $Bayes$$~$$Formula$ as also known are expressing as the following:\n",
    "\n",
    "$~~~~~~~~~~~$$ p(A /B)=\\dfrac{p(A\\cap B)}{p(B)}$ $*$\n",
    "\n",
    "\n",
    "$Bayes's Theorem make us to update our belief about event(hypothesis) abou event based on the information(evidence, given data)\n",
    "\n",
    "\n",
    "check out these example http://localhost:8889/notebooks/Logistic_Regression.ipynb\n"
   ]
  },
  {
   "cell_type": "markdown",
   "id": "745b9770",
   "metadata": {},
   "source": [
    "# Bayes in the ML's context:"
   ]
  },
  {
   "cell_type": "markdown",
   "id": "9acd18dc",
   "metadata": {},
   "source": [
    "when we tackle with a $parametric$ $algorithm$ for exemple $regression$($y=\\theta^Tx$), we want to figure out the best $w$\n",
    "that make our model perform better after feed it($X$ is given and $\\theta$ unknown) with the data $X$, that lead us to the follwing optimization problem:\n",
    "\n",
    "$~~~~~~~~~~~$ $argmax_{\\theta}p(\\theta/X)$\n",
    "\n",
    "we take advantage of the $*$, we obtaing the follwing results\n",
    "\n",
    "$~~~~~~~~~~~$ $p(\\theta/X)=\\dfrac{p(\\theta)p(X/\\theta)}{p(X)}$\n",
    "\n",
    "where:\n",
    "\n",
    "$p(X)$ is called $evidence$, it does not dependent of $\\theta$ then it is constant.\n",
    "\n",
    "$p(\\theta/X)$ our optimization target, it's called $posterior$.\n",
    "\n",
    "$p(\\theta)$ is called $prior$.\n",
    "\n",
    "$p(X/\\theta)$ is called $likelihood$.\n",
    "\n",
    "as you see, we know more information about the $likeliihood$ (e,g \n",
    "\n",
    "in generale $Inference $$~$$Bayesian$ is a huge a domain.\n",
    "check out these  for implementation of $gaussian$$~$$ proceess$, and these for $Gaussian$$~$$Mixture$"
   ]
  },
  {
   "cell_type": "code",
   "execution_count": null,
   "id": "89b13b9b",
   "metadata": {},
   "outputs": [],
   "source": []
  },
  {
   "cell_type": "code",
   "execution_count": null,
   "id": "3e82571d",
   "metadata": {},
   "outputs": [],
   "source": []
  },
  {
   "cell_type": "code",
   "execution_count": null,
   "id": "e8cef6dc",
   "metadata": {},
   "outputs": [],
   "source": []
  },
  {
   "cell_type": "markdown",
   "id": "f09f5909",
   "metadata": {},
   "source": [
    "# Decision Tree:"
   ]
  },
  {
   "cell_type": "markdown",
   "id": "a871491e",
   "metadata": {},
   "source": [
    "$Decision$$~$$ Tree $ algorithm are non-parametric supervised learning, unlike other algorithms, it can perform a classification tasks for categorical variables and regression tasks for continiuos variable.\n",
    "\n",
    "$Decision$$~$$ Tree $ are implented on top of the one of those algorithm as $CART$, $ID3$,$MARS$....etc.\n",
    "$sklearn$ use the $CART$ in his implementation, we can getting some insights through visualization."
   ]
  },
  {
   "cell_type": "code",
   "execution_count": 6,
   "id": "cc314d08",
   "metadata": {},
   "outputs": [
    {
     "data": {
      "text/plain": [
       "[Text(0.4, 0.8333333333333334, 'x[1] <= 0.8\\ngini = 0.667\\nsamples = 150\\nvalue = [50, 50, 50]'),\n",
       " Text(0.2, 0.5, 'gini = 0.0\\nsamples = 50\\nvalue = [50, 0, 0]'),\n",
       " Text(0.6, 0.5, 'x[1] <= 1.75\\ngini = 0.5\\nsamples = 100\\nvalue = [0, 50, 50]'),\n",
       " Text(0.4, 0.16666666666666666, 'gini = 0.168\\nsamples = 54\\nvalue = [0, 49, 5]'),\n",
       " Text(0.8, 0.16666666666666666, 'gini = 0.043\\nsamples = 46\\nvalue = [0, 1, 45]')]"
      ]
     },
     "execution_count": 6,
     "metadata": {},
     "output_type": "execute_result"
    },
    {
     "data": {
      "image/png": "[encoded data removed]",
      "text/plain": [
       "<Figure size 640x480 with 1 Axes>"
      ]
     },
     "metadata": {},
     "output_type": "display_data"
    }
   ],
   "source": [
    "from sklearn.datasets import load_iris\n",
    "from sklearn.tree import DecisionTreeClassifier\n",
    "from sklearn import tree\n",
    "iris = load_iris()\n",
    "X = iris.data[:, 2:] # petal length and width\n",
    "y = iris.target\n",
    "tree_clf = DecisionTreeClassifier(max_depth=2)\n",
    "tree_clf.fit(X, y)\n",
    "tree.plot_tree(tree_clf)"
   ]
  },
  {
   "cell_type": "code",
   "execution_count": null,
   "id": "0f716a25",
   "metadata": {},
   "outputs": [],
   "source": []
  },
  {
   "cell_type": "code",
   "execution_count": null,
   "id": "8a69338e",
   "metadata": {},
   "outputs": [],
   "source": []
  }
 ],
 "metadata": {
  "kernelspec": {
   "display_name": "Python 3 (ipykernel)",
   "language": "python",
   "name": "python3"
  },
  "language_info": {
   "codemirror_mode": {
    "name": "ipython",
    "version": 3
   },
   "file_extension": ".py",
   "mimetype": "text/x-python",
   "name": "python",
   "nbconvert_exporter": "python",
   "pygments_lexer": "ipython3",
   "version": "3.9.13"
  }
 },
 "nbformat": 4,
 "nbformat_minor": 5
}
