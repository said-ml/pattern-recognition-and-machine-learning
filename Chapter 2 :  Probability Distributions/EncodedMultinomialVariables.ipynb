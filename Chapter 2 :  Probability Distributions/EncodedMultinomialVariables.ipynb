{
 "cells": [
  {
   "cell_type": "markdown",
   "id": "f55963e6-589d-4594-979e-2c57e48a5c29",
   "metadata": {},
   "source": [
    "## Encoded the values of Multinomial Variable:"
   ]
  },
  {
   "cell_type": "markdown",
   "id": "a64a97bc-51d9-4b07-bf75-ed8cbb97b8bd",
   "metadata": {},
   "source": [
    "if $X$ is a random variable that it may take $K$ values, we can coded his values as the following:\n",
    "\n",
    "the $k$ value isrepresented by the vector $[0, 0, ...,1, ...]$ where $1$ in the $k$th of the vector otherwise 0 and the $length$ of vector is $K$.."
   ]
  },
  {
   "cell_type": "code",
   "execution_count": 13,
   "id": "2105e355-346a-43c0-8172-ce4f6793f52f",
   "metadata": {},
   "outputs": [
    {
     "data": {
      "text/plain": [
       "array([[1., 0., 0., 0., 0., 0., 0., 0., 0., 0.],\n",
       "       [0., 1., 0., 0., 0., 0., 0., 0., 0., 0.],\n",
       "       [0., 0., 1., 0., 0., 0., 0., 0., 0., 0.],\n",
       "       [0., 0., 0., 1., 0., 0., 0., 0., 0., 0.],\n",
       "       [0., 0., 0., 0., 1., 0., 0., 0., 0., 0.],\n",
       "       [0., 0., 0., 0., 0., 1., 0., 0., 0., 0.],\n",
       "       [0., 0., 0., 0., 0., 0., 1., 0., 0., 0.],\n",
       "       [0., 0., 0., 0., 0., 0., 0., 1., 0., 0.],\n",
       "       [0., 0., 0., 0., 0., 0., 0., 0., 1., 0.],\n",
       "       [0., 0., 0., 0., 0., 0., 0., 0., 0., 1.]])"
      ]
     },
     "execution_count": 13,
     "metadata": {},
     "output_type": "execute_result"
    }
   ],
   "source": [
    "import numpy as np\n",
    "\n",
    "def coded(values):\n",
    "    K=len(values)\n",
    "    coded_liste=np.array([np.zeros(K) for _ in range(K)])\n",
    "    for i, code in enumerate(coded_liste):\n",
    "        code[i]=1\n",
    "    return coded_liste\n",
    "values=np.arange(10)\n",
    "decoded(values)\n",
    "\n",
    "        \n",
    "        "
   ]
  },
  {
   "cell_type": "markdown",
   "id": "73d1e6fa-21c9-478c-b0fd-f0bf1571657f",
   "metadata": {},
   "source": [
    "the machine algorithm like to deal with $numerical$ data and some $values$(called $labels$ or $classes$ are strings) , we can trnsform them as $numerical$ values, \n",
    "for example:"
   ]
  },
  {
   "cell_type": "code",
   "execution_count": 14,
   "id": "f6b33d5b-3048-44eb-b55d-38b080aed999",
   "metadata": {},
   "outputs": [
    {
     "data": {
      "text/plain": [
       "array([[1., 0., 0., 0., 0., 0., 0., 0., 0., 0.],\n",
       "       [0., 1., 0., 0., 0., 0., 0., 0., 0., 0.],\n",
       "       [0., 0., 1., 0., 0., 0., 0., 0., 0., 0.],\n",
       "       [0., 0., 0., 1., 0., 0., 0., 0., 0., 0.],\n",
       "       [0., 0., 0., 0., 1., 0., 0., 0., 0., 0.],\n",
       "       [0., 0., 0., 0., 0., 1., 0., 0., 0., 0.],\n",
       "       [0., 0., 0., 0., 0., 0., 1., 0., 0., 0.],\n",
       "       [0., 0., 0., 0., 0., 0., 0., 1., 0., 0.],\n",
       "       [0., 0., 0., 0., 0., 0., 0., 0., 1., 0.],\n",
       "       [0., 0., 0., 0., 0., 0., 0., 0., 0., 1.]])"
      ]
     },
     "execution_count": 14,
     "metadata": {},
     "output_type": "execute_result"
    }
   ],
   "source": [
    "class_names = ['T-shirt/top', 'Trouser', 'Pullover', 'Dress', 'Coat',\n",
    "               'Sandal', 'Shirt', 'Sneaker', 'Bag', 'Ankle boot']\n",
    "coded(class_names)"
   ]
  },
  {
   "cell_type": "code",
   "execution_count": null,
   "id": "1621d994-e794-4c5b-ad33-82fb1bfea287",
   "metadata": {},
   "outputs": [],
   "source": []
  }
 ],
 "metadata": {
  "kernelspec": {
   "display_name": "Python 3 (ipykernel)",
   "language": "python",
   "name": "python3"
  },
  "language_info": {
   "codemirror_mode": {
    "name": "ipython",
    "version": 3
   },
   "file_extension": ".py",
   "mimetype": "text/x-python",
   "name": "python",
   "nbconvert_exporter": "python",
   "pygments_lexer": "ipython3",
   "version": "3.11.4"
  }
 },
 "nbformat": 4,
 "nbformat_minor": 5
}
