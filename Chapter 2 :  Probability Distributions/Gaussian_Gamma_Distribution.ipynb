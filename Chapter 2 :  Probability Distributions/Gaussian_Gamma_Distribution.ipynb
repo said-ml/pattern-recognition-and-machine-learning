{
 "cells": [
  {
   "cell_type": "markdown",
   "id": "928b2782-d955-4d3c-bdb5-7630640c350b",
   "metadata": {},
   "source": [
    "## Gaussian-Gamma(Normal-Gamma)distribution:\n"
   ]
  },
  {
   "cell_type": "markdown",
   "id": "3c5e07f7-3842-48ed-b5a2-fc245c01108c",
   "metadata": {},
   "source": [
    "the $gaussian-gamm$ distribution (also called $normal-gamma$ distribution$) is a distrbution that define by the following expression:\n",
    "\n",
    "$~~~~~~~~~~~~~~~~~~~~~~~~~~~~~~~~~~~~~~~~~~~~~~~~~~~~~~~~~~~~~~~~$$ p(\\mu, \\lambda)=\\mathbb{N}(\\mu/\\mu_{0}, (\\beta\\lambda)^{-1})Gam(\\lambda/a,b)$\n",
    "\n",
    "where $\\mu_{0}$ and $\\beta$ are the $parameters$ controls the gaussian distribution and $a, b$ controls are the $parameters$ the gamma distribution."
   ]
  },
  {
   "cell_type": "code",
   "execution_count": 22,
   "id": "dfd63d67-f8f0-4c9e-b359-a63ea2a5ece1",
   "metadata": {},
   "outputs": [
    {
     "ename": "SyntaxError",
     "evalue": "unexpected character after line continuation character (929206770.py, line 27)",
     "output_type": "error",
     "traceback": [
      "\u001b[1;36m  Cell \u001b[1;32mIn[22], line 27\u001b[1;36m\u001b[0m\n\u001b[1;33m    plt.ylabel(\\lambda)\u001b[0m\n\u001b[1;37m                ^\u001b[0m\n\u001b[1;31mSyntaxError\u001b[0m\u001b[1;31m:\u001b[0m unexpected character after line continuation character\n"
     ]
    }
   ],
   "source": [
    "import numpy as np\n",
    "import matplotlib.pyplot as plt\n",
    "from numpy.random import gamma as gamma_fun\n",
    "\n",
    "class normal_gamma:\n",
    "\n",
    "    def __init__(self, mu_0=0, beta=2, a=5, b=6):\n",
    "        self.mu_0=mu_0\n",
    "        self.beta=beta\n",
    "        self.a=a\n",
    "        self.b=b\n",
    "\n",
    "    def pdf(self,  mu, lamda):\n",
    "         normal=self.beta*lamda*np.exp(-0.5*(mu-self.mu_0)**2*self.beta*lamda)/np.square(2*np.pi)\n",
    "         gamma= self.b**self.a*np.exp(-lamda*self.b)*lamda**(self.a-1)/gamma_fun(self.a)\n",
    "         return normal*gamma\n",
    "\n",
    "mu=np.linspace(-2, 2, 100)\n",
    "lamda=np.linspace(0, 2, 100)\n",
    "MU, LAMDA=np.meshgrid(mu, lamda)\n",
    "\n",
    "\n",
    "Gau_Gam=normal_gamma()\n",
    "Z=Gau_Gam.pdf(MU, LAMDA)\n",
    "plt.contour(MU, LAMDA, Z)\n",
    "plt.xlabel('\\mu')\n",
    "plt.ylabel(\\lambda)\n",
    "plt.show()\n",
    "\n",
    "\n"
   ]
  },
  {
   "cell_type": "code",
   "execution_count": null,
   "id": "67c0015c-6641-47af-a601-637706cf4d7e",
   "metadata": {},
   "outputs": [],
   "source": []
  }
 ],
 "metadata": {
  "kernelspec": {
   "display_name": "Python 3 (ipykernel)",
   "language": "python",
   "name": "python3"
  },
  "language_info": {
   "codemirror_mode": {
    "name": "ipython",
    "version": 3
   },
   "file_extension": ".py",
   "mimetype": "text/x-python",
   "name": "python",
   "nbconvert_exporter": "python",
   "pygments_lexer": "ipython3",
   "version": "3.11.4"
  }
 },
 "nbformat": 4,
 "nbformat_minor": 5
}
