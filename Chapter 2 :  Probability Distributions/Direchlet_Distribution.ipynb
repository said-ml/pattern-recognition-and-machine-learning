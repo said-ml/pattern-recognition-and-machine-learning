{
 "cells": [
  {
   "cell_type": "markdown",
   "id": "16291af4-d8b5-4a55-b155-f38c687349f9",
   "metadata": {},
   "source": [
    "## Dirichlet Distribution:"
   ]
  },
  {
   "cell_type": "markdown",
   "id": "9640c039-958e-4251-b1dd-ff2692fa74b1",
   "metadata": {},
   "source": [
    "the $Dirichlet$  distribution is the $conjugate$ of the $multinomilal$ distribution(generation of the $binomial$ distribution) that's giveen by the following expression:\n",
    "\n",
    "$~~~~~~~~~~~~~~~~~~~~$ $Dir(\\mu/\\alpha)=\\dfrac{\\gamma(\\alpha_{0})}{\\gamma(\\alpha_{1})...\\gamma(\\alpha_{K})}\\displaystyle \\prod_{k=1}^{K}\\mu_{k}^{\\alpha_{k}-1}~~(1)$\n",
    "\n",
    "where:\n",
    "\n",
    "$\\alpha$ is the $parameter$ that control the $shape$ of the distribution .\n",
    "\n",
    "for all $ i \\in {1,2,..., K}$ we have:\n",
    "$~~~~~~~~~~~~~~~~~$ $\\mu_{k}>=0$ \n",
    "\n",
    " $~~~~~~~~~~~~~~~~~~~~~~~~~~~~~~~~~~~~~~~~~~~~~~~~~~~~~~~~~~~~~~~~~~$ $\\displaystyle \\sum_{k=1}^{K}\\mu_{k}=1$\n",
    "\n",
    "we can implement it as $class$ model:"
   ]
  },
  {
   "cell_type": "code",
   "execution_count": 6,
   "id": "746b70a3-ad0f-4775-84e0-0014ec74b1cf",
   "metadata": {},
   "outputs": [
    {
     "name": "stdout",
     "output_type": "stream",
     "text": [
      "[  0.         294.97942387   1.15226337]\n"
     ]
    }
   ],
   "source": [
    "import numpy as np\n",
    "# importing the base function gamma\n",
    "from scipy.special import gamma\n",
    "\n",
    "\n",
    "class dirichlet:\n",
    "\n",
    "    def __init__(self, alpha):\n",
    "        \"\"\" alpha is the hyperparameter that control the distribution \"\"\"\n",
    "        self._alpha = alpha\n",
    "        # we make sure that _alpha is numpy.array\n",
    "        assert isinstance(alpha, np.ndarray)\n",
    "        # alpha_0 is sum of all alpha_{k}\n",
    "        self._alpha_0 = alpha.sum()\n",
    "\n",
    "    # the decorator poperty give us the possibility to change(setter method) ,\n",
    "    # getting(getter method) the values of intances(e,g alpha) or even deleter method\n",
    "\n",
    "    @property\n",
    "    # getter method\n",
    "    def alpha(self):\n",
    "        return self._alpha\n",
    "\n",
    "    # setter method\n",
    "    @alpha.setter\n",
    "    def alpha(self, val):\n",
    "        self._alpha = val\n",
    "        return self._alpha\n",
    "\n",
    "    # deleter method\n",
    "    @alpha.deleter\n",
    "    def alpha_del(self):\n",
    "        del self._alpha\n",
    "\n",
    "    def _pdf(self, mu):\n",
    "        # mu must be numpy.ndarray\n",
    "        assert isinstance(mu, np.ndarray)\n",
    "        # all component of mu must be positive\n",
    "        assert (mu >= 0).all()\n",
    "        # sum of components of mu must be equal one\n",
    "        #assert mu.sum() == 1\n",
    "        # we cacul firstly the firt term of the (1) that indepent of mu\n",
    "        beta = gamma(self._alpha_0) / gamma(self._alpha).prod()\n",
    "        # we calcul the second term\n",
    "        mu_power_alpgha_1 = mu ** (self._alpha - 1).prod()\n",
    "        return beta*mu_power_alpgha_1\n",
    "\n",
    "\n",
    "\n",
    "\n",
    "alpha = np.array([5, 2, 3])\n",
    "mu = np.array([0/3, 2/3, 1/3])\n",
    "\n",
    "Direchlet = dirichlet(alpha)\n",
    "print(Direchlet._pdf(mu))\n",
    "    "
   ]
  },
  {
   "cell_type": "markdown",
   "id": "faa1aae9-1a36-4100-876c-1d87d66db3b1",
   "metadata": {},
   "source": [
    "## Ploting the dirichlet distribution:"
   ]
  },
  {
   "cell_type": "code",
   "execution_count": null,
   "id": "b87ee833-fddf-42ff-8fc9-40cfbc6880c6",
   "metadata": {},
   "outputs": [
    {
     "data": {
      "text/plain": [
       "<mpl_toolkits.mplot3d.art3d.Poly3DCollection at 0x2757b54a990>"
      ]
     },
     "execution_count": 7,
     "metadata": {},
     "output_type": "execute_result"
    }
   ],
   "source": [
    "import numpy as np\n",
    "#surpress unnecessary warnings \n",
    "import sys\n",
    "if not sys.warnoptions:\n",
    "   import warnings\n",
    "   warnings.filterwarnings('ignore')\n",
    "import matplotlib.pyplot as plt\n",
    "import mpl_toolkits\n",
    "from mpl_toolkits.mplot3d import Axes3D\n",
    "\n",
    "mu1=np.linspace(0, 1, 100)\n",
    "mu2=1-mu1       # due mu1+mu2=1\n",
    "\n",
    "MU1, MU2=np.meshgrid(mu1, mu2)\n",
    "alpha = np.array([1.25, 0.45])\n",
    "Direchlet = dirichlet(alpha)\n",
    "#MU=np.stack((mu1, 1-mu1) , axis=-1)\n",
    "\n",
    "Z=Direchlet._pdf(np.stack((MU1, MU2) , axis=-1))\n",
    "\n",
    "fig = plt.figure()\n",
    "ax = plt.axes(projection='3d')\n",
    "ax.plot_surface(MU1, MU2, Z[:, :, :-1].reshape(len(mu1), len(mu1)), rstride=1, cstride=1,cmap='jet', edgecolor = 'none')\n"
   ]
  },
  {
   "cell_type": "code",
   "execution_count": null,
   "id": "eac335a7-0d6e-46d8-bca5-d7e4733355fb",
   "metadata": {},
   "outputs": [],
   "source": []
  }
 ],
 "metadata": {
  "kernelspec": {
   "display_name": "Python 3 (ipykernel)",
   "language": "python",
   "name": "python3"
  },
  "language_info": {
   "codemirror_mode": {
    "name": "ipython",
    "version": 3
   },
   "file_extension": ".py",
   "mimetype": "text/x-python",
   "name": "python",
   "nbconvert_exporter": "python",
   "pygments_lexer": "ipython3",
   "version": "3.11.4"
  }
 },
 "nbformat": 4,
 "nbformat_minor": 5
}
