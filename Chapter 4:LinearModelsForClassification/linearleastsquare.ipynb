{
 "cells": [
  {
   "cell_type": "markdown",
   "id": "f2cf731b-2e9e-4748-b00b-a4a8f48fe908",
   "metadata": {},
   "source": [
    "In context of the $classification$ task we can note that the input $x$ is in $class_{k}$, $p(x\\in class_{k})=argmax($ $~$ $p(x\\in class_{i})for $$~$$i  \\in [0, K-1]))$.\n",
    "\n",
    "where $p(x\\in class_{k})$ is the probability that $x$ is relying in $class_k$.\n",
    "\n",
    "$K$ is the total number of classes.\n",
    "\n",
    "to encode that we associate 1 for the maximal probability otherwise 0, so we obtain the $vector$\n",
    "\n",
    "$t_{k}=[0, ..., 1, 0...]$, 1 in the $k^{th}$ position otherwise 0.\n"
   ]
  },
  {
   "cell_type": "code",
   "execution_count": 3,
   "id": "4f24b2bb-0c53-4f9c-9273-b8d1e4823ff1",
   "metadata": {},
   "outputs": [
    {
     "data": {
      "text/plain": [
       "array([0., 1., 0., 0., 0.])"
      ]
     },
     "execution_count": 3,
     "metadata": {},
     "output_type": "execute_result"
    }
   ],
   "source": [
    "import matplotlib.pyplot as plt\n",
    "import numpy as np\n",
    "\n",
    "K=5\n",
    "vector=np.zeros((K))\n",
    "\n",
    "def class_k(k:int, K:int=5)->vector:\n",
    "    assert k in np.arange(1, K)\n",
    "    # k must be inferior than K\n",
    "    vector[k-1]=1\n",
    "    # for the classes we star from 1 to K, but for indices we start from 0 to K-1\n",
    "    # so we must make indices changes k->k-1\n",
    "    return vector\n",
    "\n",
    "class_k(2)\n",
    "    "
   ]
  },
  {
   "cell_type": "markdown",
   "id": "860e2011-4736-4005-95b8-7e04f2d2ce2d",
   "metadata": {},
   "source": [
    "## Linear Least Square:"
   ]
  },
  {
   "cell_type": "code",
   "execution_count": null,
   "id": "7d785d27-a6d0-49e0-9be7-ddf2510dfdbd",
   "metadata": {},
   "outputs": [],
   "source": []
  },
  {
   "cell_type": "code",
   "execution_count": null,
   "id": "51a94d51-ab0f-4e73-bcf0-d2353d54c23a",
   "metadata": {},
   "outputs": [
    {
     "name": "stdout",
     "output_type": "stream",
     "text": [
      "(569, 2) (3, 1)\n",
      "(569, 2) (3, 1)\n",
      "accuracy= 0.5512801109460373\n"
     ]
    }
   ],
   "source": [
    "import numpy as np\n",
    "import matplotlib.pyplot as plt\n",
    "from numpy.linalg import inv\n",
    "# loading breast cancer dataset\n",
    "from sklearn.datasets import load_breast_cancer\n",
    "\n",
    "\n",
    "class LinearLeastSquare:\n",
    "    \n",
    "    def __init__(self, W=None):\n",
    "        self.W=W\n",
    "\n",
    "    #@staticmethod\n",
    "    def pinv(self, A):\n",
    "        return inv(X.T@X)@X.T\n",
    "\n",
    "    def fit(self, X, y):\n",
    "        # we add the basis\n",
    "        X_bias= np.hstack((np.ones((X.shape[0], 1)), X))\n",
    "        #self.W=self.pinv(X)@y\n",
    "        self.W=np.linalg.inv(X_bias.T @ X_bias) @ X_bias.T @ y\n",
    "  \n",
    "        \n",
    "    def class_proba(self, X):\n",
    "        self.W=self.W.reshape(3,1)\n",
    "        # we add the basis\n",
    "        X=np.hstack((np.ones((X.shape[0], 1)), X))\n",
    "        return X@self.W\n",
    "        \n",
    "    def predict(self, X):\n",
    "        self.W=self.W.reshape(3,1)\n",
    "        print(X.shape, self.W.shape)\n",
    "           # we add the basis\n",
    "        #X=np.hstack((np.ones((X.shape[0], 1)), X))\n",
    "        class_proba=self.class_proba(X)\n",
    "        # assert that is really probabilirty\n",
    "        #assert class_proba<=1.\n",
    "        y_pred=np.where(class_proba<.5, 0, 1)\n",
    "        return y_pred\n",
    "\n",
    "    def accuracy(self, X, y):\n",
    "        y_pred=self.predict(X)\n",
    "        return np.mean(y_pred==y)\n",
    "        \n",
    "\n",
    "    def boudaries_show(self, X, y):\n",
    "        # Define the decision boundary\n",
    "        x_min, x_max = X[:, 0].min() - 1, X[:, 0].max() + 1\n",
    "        y_min, y_max = X[:, 1].min() - 1, X[:, 1].max() + 1\n",
    "        xx, yy = np.meshgrid(np.arange(x_min, x_max, 0.1), np.arange(y_min, y_max, 0.1))\n",
    "        Z = self.W[0] + self.W[1] * xx + self.W[2] * yy\n",
    "\n",
    "        # Plot the decision boundary\n",
    "        plt.contour(xx-6, yy, Z, levels=[0], colors='red')\n",
    "\n",
    "        # Plot the data points\n",
    "        plt.scatter(X[:, 0], X[:, 1], c=y)\n",
    "\n",
    "        plt.xlabel('Feature 1')\n",
    "        plt.ylabel('Feature 2')\n",
    "        plt.title('Linear Least Squares Classification of Breast Cancer Data')\n",
    "        plt.show()\n",
    "\n",
    "\n",
    "if __name__=='__main__':\n",
    "        # load the cancer data\n",
    "        data=load_breast_cancer()\n",
    "        # select only the first two features\n",
    "        X=data.data[:, :2]\n",
    "        y=data.target\n",
    "\n",
    "        # create the model\n",
    "        model=LinearLeastSquare()\n",
    "        # train the model\n",
    "        model.fit(X, y)\n",
    "        model.class_proba(X)\n",
    "        # make predictions\n",
    "        y_pred=model.predict(X)\n",
    "\n",
    "        # evalute the model\n",
    "        accuracy=model.accuracy(X, y)\n",
    "        print('accuracy=', accuracy)\n",
    "\n",
    "        # plot the decision boundary and the data points\n",
    "        model.boudaries_show(X, y)\n",
    "        plt.show()\n",
    "\n"
   ]
  },
  {
   "cell_type": "code",
   "execution_count": null,
   "id": "6f4e79ef-c654-49fe-9ca2-ba2fa6dccc68",
   "metadata": {},
   "outputs": [],
   "source": []
  },
  {
   "cell_type": "code",
   "execution_count": null,
   "id": "e7aebdf8-451a-49bd-a782-3005232c314f",
   "metadata": {},
   "outputs": [],
   "source": []
  },
  {
   "cell_type": "code",
   "execution_count": null,
   "id": "9c41e05c-f294-4933-9b99-1d9acac541ff",
   "metadata": {},
   "outputs": [],
   "source": []
  }
 ],
 "metadata": {
  "kernelspec": {
   "display_name": "Python 3 (ipykernel)",
   "language": "python",
   "name": "python3"
  },
  "language_info": {
   "codemirror_mode": {
    "name": "ipython",
    "version": 3
   },
   "file_extension": ".py",
   "mimetype": "text/x-python",
   "name": "python",
   "nbconvert_exporter": "python",
   "pygments_lexer": "ipython3",
   "version": "3.11.4"
  }
 },
 "nbformat": 4,
 "nbformat_minor": 5
}
